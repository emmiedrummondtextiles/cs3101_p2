{
 "cells": [
  {
   "cell_type": "code",
   "execution_count": 174,
   "id": "61feff22",
   "metadata": {},
   "outputs": [],
   "source": [
    "from dataclasses import dataclass, field\n",
    "from typing import NewType, Union, Literal, Set\n",
    "import string"
   ]
  },
  {
   "cell_type": "markdown",
   "id": "e6d243fd",
   "metadata": {},
   "source": [
    "Domains \n",
    "The relational model uses several domains specific to the scenario, which we define below. \n",
    "\n",
    "Let Nn = {i i ∈ N∧i ≤ n}betheset of natural numbers less than or equal to n. \n",
    "\n",
    "Let Char be the set of characters defined by the ISO basic Latin Alphabet, with Lower and Upper representing the minuscule and majuscule character subsets, respectively. \n",
    "\n",
    "Let String be the set of words over Char extended with spaces."
   ]
  },
  {
   "cell_type": "markdown",
   "id": "b3f8ba97",
   "metadata": {},
   "source": [
    "Character Set"
   ]
  },
  {
   "cell_type": "code",
   "execution_count": null,
   "id": "c08574c6",
   "metadata": {},
   "outputs": [],
   "source": [
    "Lower: Set[str] = set(chr(c) for c in range(ord('a'), ord('z') + 1))\n",
    "Upper: Set[str] = set(chr(c) for c in range(ord('A'), ord('Z') + 1))\n",
    "Char = NewType('Char', str)  \n"
   ]
  },
  {
   "cell_type": "code",
   "execution_count": null,
   "id": "be507f7c",
   "metadata": {},
   "outputs": [],
   "source": [
    "\n",
    "String = NewType('String', str)\n"
   ]
  },
  {
   "cell_type": "markdown",
   "id": "2529bf1d",
   "metadata": {},
   "source": [
    "• An Hour is represented by two digits using the 24-hour clock, e.g. 04 for 4am and 21 for 9pm. \n",
    "\n",
    "Hour = N24\n",
    "\n",
    "Hour∞ extends Hour with a notion of infinity, \n",
    "\n",
    "denoted ω. Hour∞ = Hour∪{ω}"
   ]
  },
  {
   "cell_type": "code",
   "execution_count": 177,
   "id": "12b28cb0",
   "metadata": {},
   "outputs": [],
   "source": [
    "Hour    = NewType('Hour', int)\n",
    "HourInf = Union[Hour, Literal['ω']]\n",
    "def is_valid_hour(h: int) -> bool:\n",
    "    return 0 <= h <= 23"
   ]
  },
  {
   "cell_type": "markdown",
   "id": "240841e4",
   "metadata": {},
   "source": [
    "AMinute is similarly represented by two digits. \n",
    "\n",
    "Minute = N59 Minute∞ \n",
    "\n",
    "extends Minute with a notion of infinity, denoted ω. Minute∞ = Minute∪{ω}"
   ]
  },
  {
   "cell_type": "code",
   "execution_count": null,
   "id": "7d55081d",
   "metadata": {},
   "outputs": [],
   "source": [
    "\n",
    "Minute    = NewType('Minute', int)\n",
    "MinuteInf = Union[Minute, Literal['ω']]\n",
    "def is_valid_minute(m: int) -> bool:\n",
    "    return 0 <= m <= 59"
   ]
  },
  {
   "cell_type": "markdown",
   "id": "f02d4b69",
   "metadata": {},
   "source": [
    "• A Time is represented the concatenation of Hour and Minute,\n",
    "\n",
    " e.g. 1345 for 1:45pm. Time = {hm h∈Hour∧m∈Minute}"
   ]
  },
  {
   "cell_type": "code",
   "execution_count": 179,
   "id": "ba358791",
   "metadata": {},
   "outputs": [],
   "source": [
    "Time = NewType('Time', str)\n",
    "def is_valid_time(t: str) -> bool:\n",
    "    if len(t) != 4 or not t.isdigit():\n",
    "        return False\n",
    "    hh, mm = int(t[:2]), int(t[2:])\n",
    "    return is_valid_hour(hh) and is_valid_minute(mm)"
   ]
  },
  {
   "cell_type": "markdown",
   "id": "f1b6b69c",
   "metadata": {},
   "source": [
    "A Stn Code is a three-character string of majuscule characters. StnCode = {abc a,b,c ∈ Upper}"
   ]
  },
  {
   "cell_type": "code",
   "execution_count": 180,
   "id": "18910ac9",
   "metadata": {},
   "outputs": [],
   "source": [
    "StnCode = NewType('StnCode', str)\n",
    "def is_valid_stncode(code: str) -> bool:\n",
    "    return len(code) == 3 and all(ch in Upper for ch in code)"
   ]
  },
  {
   "cell_type": "markdown",
   "id": "d175d3e5",
   "metadata": {},
   "source": [
    "• A TrainID is a six-digit natural number. \n",
    "\n",
    "TrainID = {abcdef a,b,c,d,e,f ∈ N9}"
   ]
  },
  {
   "cell_type": "code",
   "execution_count": 181,
   "id": "712f1d88",
   "metadata": {},
   "outputs": [],
   "source": [
    "TrainID = NewType('TrainID', str)\n",
    "def is_valid_trainid(tid: str) -> bool:\n",
    "    return len(tid) == 6 and tid.isdigit()"
   ]
  },
  {
   "cell_type": "markdown",
   "id": "4f179106",
   "metadata": {},
   "source": [
    "A Headcode is a four-character string, comprising train class, destination area, and an identifier.\n",
    "\n",
    "Headcode = {cdij c,i,j ∈ N9 ∧d ∈ Upper}"
   ]
  },
  {
   "cell_type": "code",
   "execution_count": 182,
   "id": "11a4db83",
   "metadata": {},
   "outputs": [],
   "source": [
    "Headcode = NewType('Headcode', str)\n",
    "def is_valid_headcode(hc: str) -> bool:\n",
    "    return (\n",
    "        len(hc) == 4 and\n",
    "        hc[0].isdigit() and\n",
    "        hc[1] in Upper and\n",
    "        hc[2].isdigit() and\n",
    "        hc[3].isdigit()\n",
    "    )"
   ]
  },
  {
   "cell_type": "markdown",
   "id": "a858d9c9",
   "metadata": {},
   "source": [
    "• Company: code for a subset of current train operating companies. \n",
    "\n",
    "Company = {VT,CS,XC,SR,GR,GW}"
   ]
  },
  {
   "cell_type": "code",
   "execution_count": 183,
   "id": "1a06cad0",
   "metadata": {},
   "outputs": [],
   "source": [
    "Company = Literal['VT', 'CS', 'XC', 'SR', 'GR', 'GW']"
   ]
  },
  {
   "cell_type": "markdown",
   "id": "2a15aff3",
   "metadata": {},
   "source": [
    "Locations and Stations \n",
    "\n",
    "• location(loc : String) \n",
    "\n",
    "• station(loc : Πloc(location),code : StnCode) \n",
    "\n",
    "Locations are identified by their names. Some locations are stations, which have Computer Reservation System (CRS) codes."
   ]
  },
  {
   "cell_type": "code",
   "execution_count": null,
   "id": "98248a3c",
   "metadata": {},
   "outputs": [],
   "source": [
    "String   = NewType('String', str)\n",
    "StnCode  = NewType('StnCode', str)\n",
    "\n",
    "def is_valid_stncode(code: str) -> bool:\n",
    "    return len(code) == 3 and code.isupper()\n",
    "\n",
    "@dataclass(frozen=True)\n",
    "class Location:\n",
    "    loc: String\n",
    "\n",
    "    def __post_init__(self):\n",
    "        if not isinstance(self.loc, str) or not self.loc:\n",
    "            raise ValueError(f\"invalid location name {self.loc}\")\n",
    "\n",
    "@dataclass(frozen=True)\n",
    "class Station:\n",
    "    loc: String             \n",
    "    code: StnCode\n",
    "\n",
    "    def __post_init__(self):\n",
    "        if not is_valid_stncode(self.code):\n",
    "            raise ValueError(f\"invalid CRS code: {self.code}\")\n",
    " \n"
   ]
  },
  {
   "cell_type": "markdown",
   "id": "d06f0382",
   "metadata": {},
   "source": [
    "Trains \n",
    "\n",
    "• train(uid : TrainID) \n",
    "\n",
    "• coach(uid : Πuid(train),lid : Upper) \n",
    "\n",
    "A(passenger) train is a unit formed of a locomotive and a set of coaches, and is identified by its Unit ID. Each coach has a letter designation, which is unique in the context of the train."
   ]
  },
  {
   "cell_type": "code",
   "execution_count": null,
   "id": "543a6fa4",
   "metadata": {},
   "outputs": [
    {
     "name": "stdout",
     "output_type": "stream",
     "text": [
      "Train(uid='123456') Coach(uid='123456', lid='A') Coach(uid='123456', lid='B')\n",
      "Error: coach letter 'A' already used on train '123456'\n"
     ]
    }
   ],
   "source": [
    "from dataclasses import dataclass, field\n",
    "from typing import NewType, ClassVar, Set, Dict\n",
    "\n",
    "# Domain definitions\n",
    "TrainID = NewType('TrainID', str)\n",
    "UpperChar = NewType('UpperChar', str)\n",
    "\n",
    "def is_valid_trainid(tid: str) -> bool:\n",
    "    return len(tid) == 6 and tid.isdigit()\n",
    "\n",
    "def is_valid_upper_char(ch: str) -> bool:\n",
    "    return len(ch) == 1 and 'A' <= ch <= 'Z'\n",
    "\n",
    "@dataclass\n",
    "class Train:\n",
    "\n",
    "    \"\"\"\n",
    "\n",
    "    represents a train unit, identified by a unique six-digit TrainID\n",
    "\n",
    "\n",
    "    \"\"\"\n",
    "    uid: TrainID\n",
    "\n",
    "\n",
    "\n",
    "    _registry: ClassVar[Set[str]] = set()\n",
    "\n",
    "    def __post_init__(self):\n",
    "        if not is_valid_trainid(self.uid):\n",
    "            raise ValueError(f\"Invalid TrainID: {self.uid}\")\n",
    "        if self.uid in Train._registry:\n",
    "            raise ValueError(f\"TrainID '{self.uid}' already exists\")\n",
    "        Train._registry.add(self.uid)\n",
    "\n",
    "@dataclass\n",
    "class Coach:\n",
    "    \"\"\"\n",
    "    represents a coach attached to a train.\n",
    "    - uid: references an existing Train.uid\n",
    "    - lid: single uppercase letter unique within that train\n",
    "    \"\"\"\n",
    "    uid: TrainID\n",
    "    lid: UpperChar\n",
    "\n",
    "    _coach_map: ClassVar[Dict[str, Set[str]]] = {}\n",
    "\n",
    "    def __post_init__(self):\n",
    "\n",
    "        if self.uid not in Train._registry:\n",
    "            raise ValueError(f\"TrainID '{self.uid}' not defined, create the Train first\")\n",
    "\n",
    "\n",
    "        if not is_valid_upper_char(self.lid):\n",
    "            raise ValueError(f\"invalid coach letter: {self.lid}\")\n",
    "\n",
    "\n",
    "        coaches = Coach._coach_map.setdefault(self.uid, set())\n",
    "        if self.lid in coaches:\n",
    "            raise ValueError(f\"coach letter '{self.lid}' already used on train '{self.uid}'\")\n",
    "        coaches.add(self.lid)\n",
    "\n",
    "\n",
    "if __name__ == \"__main__\":\n",
    "    t1 = Train(uid=\"123456\")\n",
    "    cA = Coach(uid=\"123456\", lid=\"A\")\n",
    "    cB = Coach(uid=\"123456\", lid=\"B\")\n",
    "    print(t1, cA, cB)\n",
    "\n",
    "    try:\n",
    "        Coach(uid=\"123456\", lid=\"A\")\n",
    "    except ValueError as e:\n",
    "        print(\"Error:\", e)\n"
   ]
  },
  {
   "cell_type": "markdown",
   "id": "feeb0383",
   "metadata": {},
   "source": [
    "Services \n",
    "\n",
    "• service(hc : Πhc(route),dh : Hour,dm : Minute,pl : N,uid : Πuid(train),toc : Company) \n",
    "\n",
    "• route(hc : Headcode,orig : Πloc(station)) \n",
    "\n",
    "• plan(hc : Πhc(route),frm : Πloc(location),loc : Πloc(location),ddh : Hour∞,ddm : Minute∞) \n",
    "\n",
    "• stop(hc : Πhc(plan),frm : Πfrm(plan),loc : Πloc(plan),adh : Hour,adm : Minute,pl : N)\n"
   ]
  },
  {
   "cell_type": "code",
   "execution_count": null,
   "id": "e47e0c26",
   "metadata": {},
   "outputs": [
    {
     "name": "stdout",
     "output_type": "stream",
     "text": [
      "Services(hc='1L27', dh=18, dm=59, pl=1, uid='170406', toc='VT')\n"
     ]
    }
   ],
   "source": [
    "@dataclass(frozen=True)\n",
    "class Services:\n",
    "    \"\"\"\n",
    "    Represents a train service:\n",
    "    - hc: headcode (links to Route)\n",
    "    - dh, dm: departure time at origin (hour, minute)\n",
    "    - pl: platform at origin\n",
    "    - uid: TrainID\n",
    "    - toc: operating Company\n",
    "    \"\"\"\n",
    "    hc: Headcode\n",
    "    dh: Hour\n",
    "    dm: Minute\n",
    "    pl: int\n",
    "    uid: TrainID\n",
    "    toc: Company\n",
    "\n",
    "    def __post_init__(self):\n",
    "        if not is_valid_hour(self.dh):\n",
    "            raise ValueError(f\"invalid departure hour: {self.dh}\")\n",
    "        if not is_valid_minute(self.dm):\n",
    "            raise ValueError(f\"invalid departure minute: {self.dm}\")\n",
    "        if self.pl < 0:\n",
    "            raise ValueError(f\"platform must be non-negative: {self.pl}\")\n",
    "        if not is_valid_trainid(self.uid):\n",
    "            raise ValueError(f\"invalid TrainID: {self.uid}\")\n",
    "        if self.toc not in ('VT', 'CS', 'XC', 'SR', 'GR', 'GW'):\n",
    "            raise ValueError(f\"invalid company code: {self.toc}\")\n",
    "\n",
    "\n",
    "if __name__ == \"__main__\":\n",
    "    svc = Services(hc=\"1L27\", dh=18, dm=59, pl=1, uid=\"170406\", toc=\"VT\")\n",
    "    print(svc)\n"
   ]
  },
  {
   "cell_type": "code",
   "execution_count": null,
   "id": "94f61a6f",
   "metadata": {},
   "outputs": [
    {
     "name": "stdout",
     "output_type": "stream",
     "text": [
      "Route(hc='1L27', orig='EDB') Plan(hc='1L27', frm='edinburgh', loc='haymarket', ddh=0, ddm=5) Stop(hc='1L27', frm='edinburgh', loc='haymarket', adh=0, adm=4, pl=2) Service(hc='1L27', dh=18, dm=59, pl=1, uid='170406', toc='VT')\n"
     ]
    }
   ],
   "source": [
    "from dataclasses import dataclass\n",
    "from typing import NewType, Union, Literal, ClassVar, Set\n",
    "\n",
    "@dataclass(frozen=True)\n",
    "class Route:\n",
    "\n",
    "    \"\"\"\n",
    "\n",
    "    defines a service route\n",
    "    - hc: headcode (identifies the route)\n",
    "    - orig: origin station code\n",
    "\n",
    "    \"\"\"\n",
    "    hc: Headcode\n",
    "    orig: str  \n",
    "\n",
    "    def __post_init__(self):\n",
    "        if not is_valid_headcode(self.hc):\n",
    "            raise ValueError(f\"invalid headcode: {self.hc}\")\n",
    "        if not (isinstance(self.orig, str) and len(self.orig)==3 and self.orig.isupper()):\n",
    "            raise ValueError(f\"invalid station code: {self.orig}\")\n",
    "\n",
    "@dataclass(frozen=True)\n",
    "class Plan:\n",
    "\n",
    "    hc: Headcode\n",
    "    frm: str\n",
    "    loc: str\n",
    "    ddh: HourInf\n",
    "    ddm: MinuteInf\n",
    "\n",
    "    def __post_init__(self):\n",
    "        if not is_valid_headcode(self.hc):\n",
    "            raise ValueError(f\"invalid headcode: {self.hc}\")\n",
    "        if self.ddh != 'ω' and not is_valid_hour(self.ddh):\n",
    "            raise ValueError(f\"invalid departure differential hours: {self.ddh}\")\n",
    "        if self.ddm != 'ω' and not is_valid_minute(self.ddm):\n",
    "            raise ValueError(f\"invalid departure differential minutes: {self.ddm}\")\n",
    "\n",
    "@dataclass(frozen=True)\n",
    "class Stop:\n",
    "\n",
    "    hc: Headcode\n",
    "    frm: str\n",
    "    loc: str\n",
    "    adh: Hour\n",
    "    adm: Minute\n",
    "    pl: int\n",
    "\n",
    "    def __post_init__(self):\n",
    "        if not is_valid_headcode(self.hc):\n",
    "            raise ValueError(f\"invalid headcode: {self.hc}\")\n",
    "        if not is_valid_hour(self.adh):\n",
    "            raise ValueError(f\"invalid arrival differential hours: {self.adh}\")\n",
    "        if not is_valid_minute(self.adm):\n",
    "            raise ValueError(f\"invalid arrival differential minutes: {self.adm}\")\n",
    "        if not isinstance(self.pl, int) or self.pl < 0:\n",
    "            raise ValueError(f\"platform must be a non-negative integer: {self.pl}\")\n",
    "\n",
    "@dataclass(frozen=True)\n",
    "class Service:\n",
    "\n",
    "\n",
    "    hc: Headcode\n",
    "    dh: Hour\n",
    "    dm: Minute\n",
    "    pl: int\n",
    "    uid: str  # TrainID assumed valid six-digit string\n",
    "    toc: Company\n",
    "\n",
    "    def __post_init__(self):\n",
    "        if not is_valid_headcode(self.hc):\n",
    "            raise ValueError(f\"invalid headcode {self.hc}\")\n",
    "        if not is_valid_hour(self.dh):\n",
    "            raise ValueError(f\"invalid departure hour {self.dh}\")\n",
    "        if not is_valid_minute(self.dm):\n",
    "            raise ValueError(f\"invalid departure minute {self.dm}\")\n",
    "        if not isinstance(self.pl, int) or self.pl < 0:\n",
    "            raise ValueError(f\"platform must be a non-negative integer {self.pl}\")\n",
    "        if not (isinstance(self.uid, str) and len(self.uid) == 6 and self.uid.isdigit()):\n",
    "            raise ValueError(f\"invalid TrainID {self.uid}\")\n",
    "        if self.toc not in ('VT', 'CS', 'XC', 'SR', 'GR', 'GW'):\n",
    "            raise ValueError(f\"invalid company code: {self.toc}\")\n",
    "\n",
    "#test with example route\n",
    "if __name__ == \"__main__\":\n",
    "    r = Route(hc=\"1L27\", orig=\"EDB\")\n",
    "    p = Plan(hc=\"1L27\", frm=\"edinburgh\", loc=\"haymarket\", ddh=0, ddm=5)\n",
    "    s = Stop(hc=\"1L27\", frm=\"edinburgh\", loc=\"haymarket\", adh=0, adm=4, pl=2)\n",
    "    svc = Service(hc=\"1L27\", dh=18, dm=59, pl=1, uid=\"170406\", toc=\"VT\")\n",
    "    print(r, p, s, svc)\n"
   ]
  },
  {
   "cell_type": "code",
   "execution_count": 188,
   "id": "01e04c25",
   "metadata": {},
   "outputs": [
    {
     "name": "stdout",
     "output_type": "stream",
     "text": [
      "True\n",
      "True\n",
      "True\n",
      "True\n",
      "False\n",
      "False\n",
      "False\n",
      "False\n"
     ]
    }
   ],
   "source": [
    "if __name__ == \"__main__\":\n",
    "    # Valid examples\n",
    "    print(is_valid_hour(4))         # True\n",
    "    print(is_valid_time(\"1345\"))    # True\n",
    "    print(is_valid_stncode(\"EDB\"))  # True\n",
    "    print(is_valid_headcode(\"1L27\"))# True\n",
    "\n",
    "    # Invalid examples\n",
    "    print(is_valid_hour(24))        # False\n",
    "    print(is_valid_time(\"2360\"))    # False\n",
    "    print(is_valid_stncode(\"edb\"))  # False\n",
    "    print(is_valid_headcode(\"AB12\"))# False\n",
    "\n",
    "    #custom error messages , "
   ]
  },
  {
   "cell_type": "markdown",
   "id": "db6f5c43",
   "metadata": {},
   "source": [
    "Query One: \n",
    "\n"
   ]
  },
  {
   "cell_type": "code",
   "execution_count": null,
   "id": "aab2707e",
   "metadata": {},
   "outputs": [
    {
     "name": "stdout",
     "output_type": "stream",
     "text": [
      "TrainLEV(hc='2S45', orig='GLA', dep='0905')\n",
      "TrainLEV(hc='1L27', orig='EDB', dep='1859')\n"
     ]
    }
   ],
   "source": [
    "from dataclasses import dataclass\n",
    "from typing import NewType, List, Literal\n",
    "\n",
    "@dataclass(frozen=True)\n",
    "class TrainLEV:\n",
    "    hc: Headcode\n",
    "    orig: str\n",
    "    dep: str  \n",
    "\n",
    "def trainLEV(services: List[Service], routes: List[Route], train_id: str) -> List[TrainLEV]:\n",
    "    \n",
    "    origin_map = {r.hc: r.orig for r in routes}\n",
    "\n",
    "    filtered = [s for s in services if s.uid == train_id]\n",
    "\n",
    "\n",
    "    records = []\n",
    "    for s in filtered:\n",
    "        hh = f\"{s.dh:02d}\"\n",
    "        mm = f\"{s.dm:02d}\"\n",
    "        dep_time = hh + mm\n",
    "        orig = origin_map.get(s.hc, \"UNK\")\n",
    "        records.append(TrainLEV(hc=s.hc, orig=orig, dep=dep_time))\n",
    "\n",
    "    records.sort(key=lambda rec: (int(rec.dep[:2]), int(rec.dep[2:])))\n",
    "    return records\n",
    "\n",
    "if __name__ == \"__main__\":\n",
    "    routes = [\n",
    "        Route(hc=\"1L27\", orig=\"EDB\"),\n",
    "        Route(hc=\"2S45\", orig=\"GLA\"),\n",
    "    ]\n",
    "    services = [\n",
    "        Service(hc=\"1L27\", dh=18, dm=59, pl=1, uid=\"170406\", toc=\"VT\"),\n",
    "        Service(hc=\"2S45\", dh=9,  dm=5,  pl=2, uid=\"170406\", toc=\"CS\"),\n",
    "        Service(hc=\"3A12\", dh=14, dm=30, pl=1, uid=\"999999\", toc=\"XC\"),\n",
    "    ]\n",
    "    result = trainLEV(services, routes, \"170406\")\n",
    "    for r in result:\n",
    "        print(r)\n"
   ]
  },
  {
   "cell_type": "markdown",
   "id": "8cb635dc",
   "metadata": {},
   "source": [
    "Query 2:\n",
    "\n",
    "Produce a table that lists all services that depart Edinburgh (EDB).\n",
    "\n",
    " The query should return one row per service, and should conform to the following schema. \n",
    " \n",
    " scheduleEDB(hc : Headcode,dep : Time,pl : Nat,dest : Stn,len : Nat,toc : Company) \n",
    " \n",
    " Here, hc is the service’s headcode and dep is the departure time from its origin station. \n",
    " \n",
    " pl is the platform from which the service will depart Edinburgh, len is the number of coaches the service’s train has, and toc is the train operating company. dest should be the next planned location for the service. \n",
    " \n",
    " Alternatively, dest will preferably be the destination station for the service. Services should be listed in ascending order of departure time."
   ]
  },
  {
   "cell_type": "code",
   "execution_count": null,
   "id": "c4c91f2d",
   "metadata": {},
   "outputs": [],
   "source": [
    "@dataclass(frozen=True)\n",
    "class ScheduleEDB:\n",
    "    hc: Headcode\n",
    "    dep: Time        \n",
    "    pl: int           \n",
    "    dest: StnCode     \n",
    "    length: int      \n",
    "    toc: Company      \n",
    "\n",
    "def scheduleEDB(\n",
    "    services: List[Service],\n",
    "    routes:   List[Route],\n",
    "    plans:    List[Plan],\n",
    "    stations: List[Station],\n",
    "    coaches:  List[Coach]\n",
    "\n",
    ") -> List[ScheduleEDB]:\n",
    "    \n",
    "\n",
    "\n",
    "    orig_map = {r.hc: r.orig for r in routes}\n",
    "\n",
    "\n",
    "\n",
    "    code_to_loc = {s.code: s.loc for s in stations}\n",
    "    loc_to_code = {s.loc: s.code for s in stations}\n",
    "\n",
    "\n",
    "   \n",
    "    coach_counts = {}\n",
    "    for c in coaches:\n",
    "        coach_counts[c.uid] = coach_counts.get(c.uid, 0) + 1\n",
    "\n",
    "    results: List[ScheduleEDB] = []\n",
    "\n",
    "\n",
    "\n",
    "\n",
    "\n",
    "    edb_loc = code_to_loc.get(\"EDB\")\n",
    "\n",
    "    for svc in services:\n",
    "\n",
    "\n",
    "\n",
    "\n",
    "        if orig_map.get(svc.hc) != \"EDB\":\n",
    "            continue\n",
    "\n",
    "\n",
    "\n",
    "\n",
    "        dep_str = f\"{svc.dh:02d}{svc.dm:02d}\"\n",
    "        dep_time = Time(dep_str)\n",
    "\n",
    "        \n",
    "        next_plan = next(\n",
    "            (p for p in plans if p.hc == svc.hc and p.frm == edb_loc),\n",
    "            None\n",
    "        )\n",
    "        if next_plan and next_plan.loc in loc_to_code:\n",
    "            dest_code = loc_to_code[next_plan.loc]\n",
    "        else:\n",
    "\n",
    "\n",
    "\n",
    "\n",
    "            final_plan = next(\n",
    "                (p for p in plans if p.hc == svc.hc and p.ddh == 'ω'),\n",
    "                None\n",
    "            )\n",
    "            dest_code = loc_to_code.get(final_plan.loc) if final_plan else \"UNK\"\n",
    "\n",
    "        length = coach_counts.get(svc.uid, 0)\n",
    "\n",
    "        results.append(ScheduleEDB(\n",
    "            hc=svc.hc,\n",
    "            dep=dep_time,\n",
    "            pl=svc.pl,\n",
    "            dest=StnCode(dest_code),\n",
    "            length=length,\n",
    "            toc=svc.toc\n",
    "        ))\n",
    "\n",
    "    results.sort(key=lambda r: (int(r.dep[:2]), int(r.dep[2:])))\n",
    "    return results\n",
    "\n",
    "ScheduleEDB(hc='2S45', dep='0905', pl=2, dest='GLA', length=8, toc='CS')\n",
    "ScheduleEDB(hc='1L27', dep='1859', pl=1, dest='HYM', length=8, toc='VT')\n",
    "\n",
    "#this doesnt work properly yet, need to check the logic in the function"
   ]
  },
  {
   "cell_type": "code",
   "execution_count": null,
   "id": "03ce5c1e",
   "metadata": {},
   "outputs": [
    {
     "data": {
      "text/plain": [
       "ScheduleEDB(hc='1L27', dep='1859', pl=1, dest='HYM', length=8, toc='VT')"
      ]
     },
     "execution_count": 191,
     "metadata": {},
     "output_type": "execute_result"
    }
   ],
   "source": [
    "\n"
   ]
  },
  {
   "cell_type": "markdown",
   "id": "c76a7958",
   "metadata": {},
   "source": [
    "Query 3:\n",
    "\n",
    "Produce a table that lists all the locations through which the 1859 1L27 service departs, and includes both the service’s origin and destination locations. \n",
    "\n",
    "The query should return one row per location, and should conform to the following schema. \n",
    "\n",
    "serviceEDBDEE(loc : Loc,stn : StnCode,pl : Nat,arr : Time,dep : Time) \n",
    "\n",
    "Here, loc is the origin, destination, or a location from which the service departs. \n",
    "\n",
    "Should loc be a station, stn gives the corresponding station code, and pl gives the corresponding platform.\n",
    "\n",
    "Arrival and departure times from that location are recorded under arr and dep, respectively. \n",
    " \n",
    "Locations should be listed in the order that they are visited."
   ]
  },
  {
   "cell_type": "markdown",
   "id": "502c1e4f",
   "metadata": {},
   "source": [
    "Constraints Enforce each of the following constraints.\n",
    "\n",
    " You may use checks, triggers, procedures, or any other appropriate mechanism. \n",
    " \n",
    " 1. A service cannot arrive after it departs a station.  "
   ]
  },
  {
   "cell_type": "markdown",
   "id": "f05bb20d",
   "metadata": {},
   "source": [
    "2. All locations on a route, barring the destination location, must have a finite departure differential."
   ]
  },
  {
   "cell_type": "markdown",
   "id": "9db7c455",
   "metadata": {},
   "source": [
    "3. A train cannot be part of two different services departing at the same time."
   ]
  }
 ],
 "metadata": {
  "kernelspec": {
   "display_name": "Python 3",
   "language": "python",
   "name": "python3"
  },
  "language_info": {
   "codemirror_mode": {
    "name": "ipython",
    "version": 3
   },
   "file_extension": ".py",
   "mimetype": "text/x-python",
   "name": "python",
   "nbconvert_exporter": "python",
   "pygments_lexer": "ipython3",
   "version": "3.12.10"
  }
 },
 "nbformat": 4,
 "nbformat_minor": 5
}
